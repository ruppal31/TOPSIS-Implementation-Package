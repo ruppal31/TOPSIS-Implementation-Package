{
  "nbformat": 4,
  "nbformat_minor": 0,
  "metadata": {
    "colab": {
      "provenance": []
    },
    "kernelspec": {
      "name": "python3",
      "display_name": "Python 3"
    },
    "language_info": {
      "name": "python"
    }
  },
  "cells": [
    {
      "cell_type": "code",
      "execution_count": 2,
      "metadata": {
        "colab": {
          "base_uri": "https://localhost:8080/"
        },
        "id": "ruk92K-USH15",
        "outputId": "d00e67ff-c070-40e8-fa94-4e67d6b65a86"
      },
      "outputs": [
        {
          "output_type": "stream",
          "name": "stdout",
          "text": [
            "Original Data:\n",
            "   Laptop  Price  RAM  Battery  Weight\n",
            "0      A  50000    8        6     2.0\n",
            "1      B  45000    4        5     2.2\n",
            "2      C  55000   16        8     1.8\n",
            "3      D  60000    8       10     1.9\n",
            "4      E  65000    4        5     2.4\n"
          ]
        }
      ],
      "source": [
        "import pandas as pd\n",
        "import numpy as np\n",
        "\n",
        "# Sample data\n",
        "data = {'Laptop': ['A', 'B', 'C', 'D','E'],\n",
        "        'Price': [50000, 45000, 55000, 60000,65000],\n",
        "        'RAM': [8, 4, 16, 8,4],\n",
        "        'Battery': [6, 5, 8, 10,5],\n",
        "        'Weight': [2.0, 2.2, 1.8, 1.9,2.4]}\n",
        "\n",
        "df = pd.DataFrame(data)\n",
        "print(\"Original Data:\\n\", df)\n"
      ]
    },
    {
      "cell_type": "code",
      "source": [
        "# Convert to numpy matrix excluding Laptop column\n",
        "matrix = df.iloc[:,1:].values\n",
        "\n",
        "# Define weights and impacts\n",
        "weights = np.array([0.3, 0.2, 0.3, 0.2])  # Example weights\n",
        "impacts = ['-', '+', '+', '-']\n",
        "\n",
        "# Normalize the matrix\n",
        "norm_matrix = matrix / np.sqrt((matrix**2).sum(axis=0))\n",
        "\n",
        "# Weighted normalized matrix\n",
        "weighted_matrix = norm_matrix * weights\n",
        "\n",
        "# Ideal best and worst\n",
        "ideal_best = np.max(weighted_matrix, axis=0)\n",
        "ideal_worst = np.min(weighted_matrix, axis=0)\n",
        "\n",
        "# Adjust for impacts\n",
        "for i in range(len(impacts)):\n",
        "    if impacts[i] == '-':\n",
        "        ideal_best[i], ideal_worst[i] = ideal_worst[i], ideal_best[i]\n",
        "\n",
        "# Separation measures\n",
        "s_pos = np.sqrt(((weighted_matrix - ideal_best)**2).sum(axis=1))\n",
        "s_neg = np.sqrt(((weighted_matrix - ideal_worst)**2).sum(axis=1))\n",
        "\n",
        "# Performance scores\n",
        "performance = s_neg / (s_pos + s_neg)\n",
        "\n",
        "# Append scores and rank\n",
        "df['Score'] = performance\n",
        "df['Rank'] = df['Score'].rank(ascending=False).astype(int)\n",
        "\n",
        "# Display results\n",
        "print(\"\\nTOPSIS Ranking:\\n\", df.sort_values('Rank'))\n"
      ],
      "metadata": {
        "colab": {
          "base_uri": "https://localhost:8080/"
        },
        "id": "Xmr0vlmXSkBx",
        "outputId": "82524cc8-a200-46c5-9c1a-d0dac37f5c21"
      },
      "execution_count": 3,
      "outputs": [
        {
          "output_type": "stream",
          "name": "stdout",
          "text": [
            "\n",
            "TOPSIS Ranking:\n",
            "   Laptop  Price  RAM  Battery  Weight     Score  Rank\n",
            "2      C  55000   16        8     1.8  0.750587     1\n",
            "3      D  60000    8       10     1.9  0.549589     2\n",
            "0      A  50000    8        6     2.0  0.349856     3\n",
            "1      B  45000    4        5     2.2  0.244196     4\n",
            "4      E  65000    4        5     2.4  0.000000     5\n"
          ]
        }
      ]
    },
    {
      "cell_type": "code",
      "source": [
        "### ✅ **Summary**\n",
        "- Implemented TOPSIS on sample laptop dataset\n",
        "- Calculated normalised, weighted scores, ideal best & worst\n",
        "- Derived final ranking based on performance scores\n"
      ],
      "metadata": {
        "id": "Q2d_ZZD9Sn9f"
      },
      "execution_count": null,
      "outputs": []
    }
  ]
}